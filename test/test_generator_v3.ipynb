{
 "cells": [
  {
   "cell_type": "markdown",
   "id": "10892314",
   "metadata": {},
   "source": [
    "# Generación de Tests Unitarios para Java con RAG\n",
    "\n",
    "Este notebook conecta contra un índice de Pinecone existente y genera tests a partir de un archivo `.java`."
   ]
  },
  {
   "cell_type": "code",
   "id": "68644b2a",
   "metadata": {
    "ExecuteTime": {
     "end_time": "2025-05-09T20:53:27.877823Z",
     "start_time": "2025-05-09T20:53:27.871859Z"
    }
   },
   "source": [
    "import os\n",
    "from dotenv import load_dotenv\n",
    "load_dotenv()\n",
    "\n",
    "# Ajusta el PYTHONPATH si tu código está en src/\n",
    "import sys\n",
    "sys.path.append(os.path.join(os.getcwd(), 'src'))"
   ],
   "outputs": [],
   "execution_count": 4
  },
  {
   "cell_type": "code",
   "id": "309f2a19",
   "metadata": {
    "ExecuteTime": {
     "end_time": "2025-05-09T20:52:30.438612Z",
     "start_time": "2025-05-09T20:51:27.406406Z"
    }
   },
   "source": [
    "java_path = input('Ingresa la ruta al archivo .java: ').strip()\n",
    "use_rag_input = input('Usar RAG? (True/False): ').strip()\n",
    "use_rag = use_rag_input.lower() in ('true', '1', 'yes')\n",
    "print(f'Java file: {java_path}, use_rag={use_rag}')"
   ],
   "outputs": [
    {
     "name": "stdout",
     "output_type": "stream",
     "text": [
      "Java file: /home/jburgos/IdeaProjects/paw-2024a-05/persistence/src/main/java/ar/edu/itba/paw/persistence/PostDaoJpa.java, use_rag=True\n"
     ]
    }
   ],
   "execution_count": 1
  },
  {
   "cell_type": "code",
   "id": "ef25c476",
   "metadata": {
    "ExecuteTime": {
     "end_time": "2025-05-09T21:04:26.013855Z",
     "start_time": "2025-05-09T21:04:23.986964Z"
    }
   },
   "source": [
    "from langchain.embeddings import OllamaEmbeddings\n",
    "from langchain.vectorstores import Pinecone as LC_Pinecone\n",
    "import os\n",
    "\n",
    "# Configura modelo de embeddings\n",
    "embedding_model_name = os.getenv('EMBEDDING_MODEL', 'mxbai-embed-large')\n",
    "embeddings = OllamaEmbeddings(model=embedding_model_name)\n",
    "\n",
    "# Conecta a Pinecone usando el índice ya creado\n",
    "index_name = os.getenv('PINECONE_INDEX_NAME', 'java-tests')\n",
    "namespace = os.getenv('PINECONE_NAMESPACE', 'java_tests')\n",
    "vectorstore = LC_Pinecone.from_existing_index(\n",
    "    embedding=embeddings,\n",
    "    index_name=index_name,\n",
    "    namespace=namespace\n",
    ")\n",
    "print(f'Conectado a Pinecone index \"{index_name}\" en namespace \"{namespace}\"')"
   ],
   "outputs": [
    {
     "ename": "ValueError",
     "evalue": "client should be an instance of pinecone.Index, got <class 'pinecone.data.index.Index'>",
     "output_type": "error",
     "traceback": [
      "\u001B[31m---------------------------------------------------------------------------\u001B[39m",
      "\u001B[31mValueError\u001B[39m                                Traceback (most recent call last)",
      "\u001B[36mCell\u001B[39m\u001B[36m \u001B[39m\u001B[32mIn[6]\u001B[39m\u001B[32m, line 12\u001B[39m\n\u001B[32m     10\u001B[39m index_name = os.getenv(\u001B[33m'\u001B[39m\u001B[33mPINECONE_INDEX_NAME\u001B[39m\u001B[33m'\u001B[39m, \u001B[33m'\u001B[39m\u001B[33mjava-tests\u001B[39m\u001B[33m'\u001B[39m)\n\u001B[32m     11\u001B[39m namespace = os.getenv(\u001B[33m'\u001B[39m\u001B[33mPINECONE_NAMESPACE\u001B[39m\u001B[33m'\u001B[39m, \u001B[33m'\u001B[39m\u001B[33mjava_tests\u001B[39m\u001B[33m'\u001B[39m)\n\u001B[32m---> \u001B[39m\u001B[32m12\u001B[39m vectorstore = \u001B[43mLC_Pinecone\u001B[49m\u001B[43m.\u001B[49m\u001B[43mfrom_existing_index\u001B[49m\u001B[43m(\u001B[49m\n\u001B[32m     13\u001B[39m \u001B[43m    \u001B[49m\u001B[43membedding\u001B[49m\u001B[43m=\u001B[49m\u001B[43membeddings\u001B[49m\u001B[43m,\u001B[49m\n\u001B[32m     14\u001B[39m \u001B[43m    \u001B[49m\u001B[43mindex_name\u001B[49m\u001B[43m=\u001B[49m\u001B[43mindex_name\u001B[49m\u001B[43m,\u001B[49m\n\u001B[32m     15\u001B[39m \u001B[43m    \u001B[49m\u001B[43mnamespace\u001B[49m\u001B[43m=\u001B[49m\u001B[43mnamespace\u001B[49m\n\u001B[32m     16\u001B[39m \u001B[43m)\u001B[49m\n\u001B[32m     17\u001B[39m \u001B[38;5;28mprint\u001B[39m(\u001B[33mf\u001B[39m\u001B[33m'\u001B[39m\u001B[33mConectado a Pinecone index \u001B[39m\u001B[33m\"\u001B[39m\u001B[38;5;132;01m{\u001B[39;00mindex_name\u001B[38;5;132;01m}\u001B[39;00m\u001B[33m\"\u001B[39m\u001B[33m en namespace \u001B[39m\u001B[33m\"\u001B[39m\u001B[38;5;132;01m{\u001B[39;00mnamespace\u001B[38;5;132;01m}\u001B[39;00m\u001B[33m\"\u001B[39m\u001B[33m'\u001B[39m)\n",
      "\u001B[36mFile \u001B[39m\u001B[32m~/PycharmProjects/JavaUnitTestRAG/.venv/lib64/python3.13/site-packages/langchain_community/vectorstores/pinecone.py:457\u001B[39m, in \u001B[36mPinecone.from_existing_index\u001B[39m\u001B[34m(cls, index_name, embedding, text_key, namespace, pool_threads)\u001B[39m\n\u001B[32m    455\u001B[39m \u001B[38;5;250m\u001B[39m\u001B[33;03m\"\"\"Load pinecone vectorstore from index name.\"\"\"\u001B[39;00m\n\u001B[32m    456\u001B[39m pinecone_index = \u001B[38;5;28mcls\u001B[39m.get_pinecone_index(index_name, pool_threads)\n\u001B[32m--> \u001B[39m\u001B[32m457\u001B[39m \u001B[38;5;28;01mreturn\u001B[39;00m \u001B[38;5;28;43mcls\u001B[39;49m\u001B[43m(\u001B[49m\u001B[43mpinecone_index\u001B[49m\u001B[43m,\u001B[49m\u001B[43m \u001B[49m\u001B[43membedding\u001B[49m\u001B[43m,\u001B[49m\u001B[43m \u001B[49m\u001B[43mtext_key\u001B[49m\u001B[43m,\u001B[49m\u001B[43m \u001B[49m\u001B[43mnamespace\u001B[49m\u001B[43m)\u001B[49m\n",
      "\u001B[36mFile \u001B[39m\u001B[32m~/PycharmProjects/JavaUnitTestRAG/.venv/lib64/python3.13/site-packages/langchain_core/_api/deprecation.py:224\u001B[39m, in \u001B[36mdeprecated.<locals>.deprecate.<locals>.finalize.<locals>.warn_if_direct_instance\u001B[39m\u001B[34m(self, *args, **kwargs)\u001B[39m\n\u001B[32m    222\u001B[39m     warned = \u001B[38;5;28;01mTrue\u001B[39;00m\n\u001B[32m    223\u001B[39m     emit_warning()\n\u001B[32m--> \u001B[39m\u001B[32m224\u001B[39m \u001B[38;5;28;01mreturn\u001B[39;00m \u001B[43mwrapped\u001B[49m\u001B[43m(\u001B[49m\u001B[38;5;28;43mself\u001B[39;49m\u001B[43m,\u001B[49m\u001B[43m \u001B[49m\u001B[43m*\u001B[49m\u001B[43margs\u001B[49m\u001B[43m,\u001B[49m\u001B[43m \u001B[49m\u001B[43m*\u001B[49m\u001B[43m*\u001B[49m\u001B[43mkwargs\u001B[49m\u001B[43m)\u001B[49m\n",
      "\u001B[36mFile \u001B[39m\u001B[32m~/PycharmProjects/JavaUnitTestRAG/.venv/lib64/python3.13/site-packages/langchain_community/vectorstores/pinecone.py:73\u001B[39m, in \u001B[36mPinecone.__init__\u001B[39m\u001B[34m(self, index, embedding, text_key, namespace, distance_strategy)\u001B[39m\n\u001B[32m     68\u001B[39m     warnings.warn(\n\u001B[32m     69\u001B[39m         \u001B[33m\"\u001B[39m\u001B[33mPassing in `embedding` as a Callable is deprecated. Please pass in an\u001B[39m\u001B[33m\"\u001B[39m\n\u001B[32m     70\u001B[39m         \u001B[33m\"\u001B[39m\u001B[33m Embeddings object instead.\u001B[39m\u001B[33m\"\u001B[39m\n\u001B[32m     71\u001B[39m     )\n\u001B[32m     72\u001B[39m \u001B[38;5;28;01mif\u001B[39;00m \u001B[38;5;129;01mnot\u001B[39;00m \u001B[38;5;28misinstance\u001B[39m(index, pinecone.Index):\n\u001B[32m---> \u001B[39m\u001B[32m73\u001B[39m     \u001B[38;5;28;01mraise\u001B[39;00m \u001B[38;5;167;01mValueError\u001B[39;00m(\n\u001B[32m     74\u001B[39m         \u001B[33mf\u001B[39m\u001B[33m\"\u001B[39m\u001B[33mclient should be an instance of pinecone.Index, got \u001B[39m\u001B[38;5;132;01m{\u001B[39;00m\u001B[38;5;28mtype\u001B[39m(index)\u001B[38;5;132;01m}\u001B[39;00m\u001B[33m\"\u001B[39m\n\u001B[32m     75\u001B[39m     )\n\u001B[32m     76\u001B[39m \u001B[38;5;28mself\u001B[39m._index = index\n\u001B[32m     77\u001B[39m \u001B[38;5;28mself\u001B[39m._embedding = embedding\n",
      "\u001B[31mValueError\u001B[39m: client should be an instance of pinecone.Index, got <class 'pinecone.data.index.Index'>"
     ]
    }
   ],
   "execution_count": 6
  },
  {
   "cell_type": "code",
   "execution_count": null,
   "id": "b4e1271a",
   "metadata": {},
   "outputs": [],
   "source": [
    "from src/model import Model\n",
    "\n",
    "# Instancia Model con docs dummy (no se usan cuando use_rag=True)\n",
    "model = Model(docs=[], use_rag=use_rag)\n",
    "model.vectorstore = vectorstore\n",
    "print('Modelo inicializado y vectorstore reemplazado.')"
   ]
  },
  {
   "cell_type": "code",
   "execution_count": null,
   "id": "6fd2c5dc",
   "metadata": {},
   "outputs": [],
   "source": [
    "from src/parser import Parser\n",
    "\n",
    "# Verificar que el archivo existe\n",
    "if not os.path.isfile(java_path):\n",
    "    raise FileNotFoundError(f'No se encontró el archivo: {java_path}')\n",
    "\n",
    "# Genera los tests\n",
    "test_code = model.generate_test_methods(java_path, k=3)\n",
    "print('\\n=== Test generado ===\\n')\n",
    "print(test_code)"
   ]
  },
  {
   "cell_type": "code",
   "execution_count": null,
   "id": "c801a4e1",
   "metadata": {},
   "outputs": [],
   "source": [
    "output_dir = os.getenv('TEST_OUTPUT_DIR', 'generated_tests')\n",
    "from model import Model as _M\n",
    "class_name = os.path.splitext(os.path.basename(java_path))[0]\n",
    "_M.save_test_class(output_dir, test_code, class_name)"
   ]
  }
 ],
 "metadata": {},
 "nbformat": 4,
 "nbformat_minor": 5
}
